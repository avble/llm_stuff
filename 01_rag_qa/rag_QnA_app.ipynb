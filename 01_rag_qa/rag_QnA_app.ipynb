{
 "cells": [
  {
   "cell_type": "code",
   "execution_count": null,
   "metadata": {},
   "outputs": [],
   "source": [
    "!pip install gradio simpletransformers pandas sentence_transformers"
   ]
  },
  {
   "cell_type": "markdown",
   "metadata": {},
   "source": [
    "# Q&A application\n",
    "+ Load the vector database\n",
    "+ Obtain the embedding vector from query\n",
    "+ Obtain the context by similarity between embedding vector and vector database\n",
    "+ Feed the (context, query) to LLM model to obtain the answer\n",
    "+ response the predicted answer to application (gradio)"
   ]
  },
  {
   "cell_type": "code",
   "execution_count": null,
   "metadata": {},
   "outputs": [],
   "source": [
    "from sentence_transformers import SentenceTransformer\n",
    "from simpletransformers.question_answering import QuestionAnsweringModel\n",
    "import gradio as gr\n",
    "import random\n",
    "import pandas\n",
    "import os, json, time\n",
    "\n",
    "# os.environ[\"TOKENIZERS_PARALLELISM\"] = \"False\"\n",
    "\n",
    "class PredictAnswer:\n",
    "    def __init__(self):\n",
    "        # embedding model\n",
    "        self.emb_model_path = \"TencentBAC/Conan-embedding-v1\"\n",
    "        self.emb_model = SentenceTransformer(self.emb_model_path, device=\"cpu\")\n",
    "\n",
    "        # Load vector database\n",
    "        self.db_vector = []\n",
    "        with open(\"embedding.json\", \"r\", encoding=\"utf-8\") as f_in:\n",
    "            self.db_vector = json.load(f_in)\n",
    "\n",
    "        self.db_emb_vectors = [data[\"embedding\"] for data in self.db_vector]\n",
    "\n",
    "        # Q & A model\n",
    "        self.qa_model = QuestionAnsweringModel(\"bert\", \"./outputs/best_model\")\n",
    "\n",
    "    def __call__(self, query):\n",
    "        emb_query = self.emb_model.encode(query) # compute the embedding vector for query\n",
    "        similarities = self.emb_model.similarity(emb_query, self.db_emb_vectors)\n",
    "\n",
    "        # Get context which is the most similar to emb_query\n",
    "        idx_max = pandas.Series(similarities[0]).idxmax()\n",
    "        context = self.db_vector[idx_max][\"context\"]\n",
    "        # Make predictions with the model\n",
    "        llm_query = [\n",
    "            {\n",
    "                \"context\": context,\n",
    "                \"qas\": [\n",
    "                    {\n",
    "                        \"question\": query,\n",
    "                        \"id\": str(random.random()),\n",
    "                    }\n",
    "                ],\n",
    "            }\n",
    "        ]\n",
    "\n",
    "        print(json.dumps(llm_query, indent=4))\n",
    "\n",
    "        predictions, probabilities = self.qa_model.predict(llm_query, n_best_size=2)\n",
    "        answers = \"\"\n",
    "\n",
    "        for idx, answer in enumerate(predictions[0][\"answer\"]):\n",
    "            answers = answers + \"* \" + str(int(probabilities[0][\"probability\"][idx]*100)) + \"%\" + \"\\n\" + (\"not-found-answer\" if answer == \"empty\" else answer)\n",
    "            answers = answers + \"\\n\\n\"\n",
    "\n",
    "        return answers\n",
    "\n",
    "\n",
    "predict_answer = PredictAnswer()\n",
    "# print(predict_answer(\"What is the Grotto at Notre Dame\"))\n",
    "\n",
    "with gr.Blocks() as demo:\n",
    "    with gr.Row():\n",
    "        with gr.Column():\n",
    "            text_question = gr.Textbox(label=\"Question\")\n",
    "            button_submit = gr.Button(value=\"Submit\")\n",
    "        with gr.Column():\n",
    "            text_answer = gr.Textbox(label=\"Predicted Answer\")\n",
    "\n",
    "    button_submit.click(predict_answer, inputs=text_question, outputs=text_answer)\n",
    "    examples = gr.Examples(examples=[\"Where is the headquarters of the Congregation of the Holy Cross?\", \"What is the primary seminary of the Congregation\", \"What is the oldest structure?\"],\n",
    "                           inputs=[text_question])\n",
    "    \n",
    "demo.launch()"
   ]
  }
 ],
 "metadata": {
  "kernelspec": {
   "display_name": ".env",
   "language": "python",
   "name": "python3"
  },
  "language_info": {
   "codemirror_mode": {
    "name": "ipython",
    "version": 3
   },
   "file_extension": ".py",
   "mimetype": "text/x-python",
   "name": "python",
   "nbconvert_exporter": "python",
   "pygments_lexer": "ipython3",
   "version": "3.10.12"
  }
 },
 "nbformat": 4,
 "nbformat_minor": 2
}
